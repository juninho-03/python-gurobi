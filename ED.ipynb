{
 "cells": [
  {
   "cell_type": "markdown",
   "metadata": {},
   "source": [
    "# Economic dispatch problem (ED)"
   ]
  },
  {
   "cell_type": "markdown",
   "metadata": {},
   "source": [
    "\\begin{alignat*}{1}\\min\\quad & 60 Pg_{1} + 100 Pg_{2} + 190 Pg_{3}\\\\\n",
    "\\text{Subject to} \\quad & Pg_{1} + Pg_{2} + Pg_{3} = 200\\\\\n",
    " & 10 \\leq Pg_{1} \\leq 100\\\\\n",
    " & 50 \\leq Pg_{2} \\leq 120\\\\\n",
    " & 40 \\leq Pg_{3} \\leq 150\\\\\n",
    " & Pg_{i} \\geq 0 \\quad\\forall i \\in \\{1,2,3\\}\\\\\n",
    "\\end{alignat*}"
   ]
  },
  {
   "cell_type": "markdown",
   "metadata": {},
   "source": [
    "Se necesita primero cargar la librería que permite utilizar los objectos de Gurobi en Python."
   ]
  },
  {
   "cell_type": "code",
   "execution_count": null,
   "metadata": {},
   "outputs": [],
   "source": [
    "from gurobipy import *"
   ]
  },
  {
   "cell_type": "markdown",
   "metadata": {},
   "source": [
    "Puede ser útil iniciar el reloj de la computadora para determinar el tiempo de formulación del problema de optimización."
   ]
  },
  {
   "cell_type": "code",
   "execution_count": null,
   "metadata": {},
   "outputs": [],
   "source": [
    "import time\n",
    "t00 = time.time() #formulation time"
   ]
  },
  {
   "cell_type": "markdown",
   "metadata": {},
   "source": [
    "Para poder leer el archivo donde se encuentra la información del SEP y de la función de costo del problema se realiza lo siguiente:"
   ]
  },
  {
   "cell_type": "code",
   "execution_count": null,
   "metadata": {},
   "outputs": [],
   "source": [
    "import case3b as mpc\n",
    "sep=mpc.case3b()"
   ]
  },
  {
   "cell_type": "markdown",
   "metadata": {},
   "source": [
    "Para representar la cantidad de generadores y la red de transmisión a través de la matriz de incidencia, la matriz Ybus (Xbus), debemos definir los parámetros del SEP."
   ]
  },
  {
   "cell_type": "code",
   "execution_count": null,
   "metadata": {},
   "outputs": [],
   "source": [
    "ng = len(sep['gen'])\n",
    "nb = len(sep['bus']) #aplicable para A (incidencia)\n",
    "nl = len(sep['branch']) #aplicable para A"
   ]
  },
  {
   "cell_type": "markdown",
   "metadata": {},
   "source": [
    "Inicializamos en Python el problema de optimización utilizando el objeto \"Model\" de Gurobi. \n",
    "\n",
    "(*) Hay veces que es útil resetear el problema, especialmente cuando estamos actualizando la FO o las restricciones, y en algunos al aplicar técnicas de descomposición. En Spyder es muy útil hacerlo ya que las variables y objetos de la Terminal de Python pueden estar aún disponibles ocasionando errores en la formulación del problema."
   ]
  },
  {
   "cell_type": "code",
   "execution_count": null,
   "metadata": {},
   "outputs": [],
   "source": [
    "m = Model('ED')\n",
    "m.reset(0)"
   ]
  },
  {
   "cell_type": "markdown",
   "metadata": {},
   "source": [
    "La definición de variables se realiza a través del comando \"addVars\" de la API de Python. Esto permite añadir múltiples variables de decisión al modelo de optimización. \n",
    "\n",
    "Para el caso mostrado se ha definido el dominio de las variables como números reales positivos. En el caso que no se definan estos Gurobi asume por default que son números reales positivos $[0,+inf[$. Para este caso, si bien se podría utilizar las características técnicas de las unidades generadoras, esto haría que no se muestren los multiplicadores de Lagrange asociados a los límites de las variables de decisión.\n",
    "\n",
    "Para mayor información y detalle de todas las características de Gurobi se puede utilizar la información contenida en el siguiente link:\n",
    "https://www.gurobi.com/documentation/8.0/refman/py_python_api_details.html"
   ]
  },
  {
   "cell_type": "code",
   "execution_count": null,
   "metadata": {},
   "outputs": [],
   "source": [
    "# VARIABLE DEFINITIONS\n",
    "p = m.addVars(ng, vtype=GRB.CONTINUOUS, lb=0, name='Pg') #diccionario"
   ]
  },
  {
   "cell_type": "markdown",
   "metadata": {},
   "source": [
    "Gurobi asigna una clase de Python denominada diccionario (tupledict: https://www.gurobi.com/documentation/8.0/refman/py_tupledict.html#pythonclass:tupledict). Los keys del diccionario son derivados de los índices del argumento, para este caso $ng$ (range($ng$)).\n",
    "\n",
    "(*) Se debe recordar que en Python la secuncia de números enteros empieza con el cero."
   ]
  },
  {
   "cell_type": "markdown",
   "metadata": {},
   "source": [
    "Es posible asignar el detalle de las variables de decisión a un arreglo (array). Esto con el objetivo de hacer más eficiente la formulación del problema, tanto para la FO como para las restricciones."
   ]
  },
  {
   "cell_type": "code",
   "execution_count": null,
   "metadata": {},
   "outputs": [],
   "source": [
    "var_p = [p[i] for i in range(ng)] #array"
   ]
  },
  {
   "cell_type": "markdown",
   "metadata": {},
   "source": [
    "Con la definición anterior, la FO se formula como una combinación lineal de las variables de decisión (array) y el vector de los costos de generación. En el ejemplo se ha definido un arreglo a través del comando \"quicksum\" de Gurobi.\n",
    "\n",
    "El resultado lo hemos asignado a un arreglo $Cop$ que define los costos de operación (FO) del problema del ED. Esto permitiría que a la componente de costo creada previamente podamos imprimirla, o utilizarla de acuerdo a nuestra conveniencia (inversión, operación, ENS, etc.).\n",
    "\n",
    "Para plantear la FO se utiliza la definición del tipo de problema utilizando de la librería de Gurobi los comandos GRB.MINIMIZE y GRB.MAXIMIZE."
   ]
  },
  {
   "cell_type": "code",
   "execution_count": null,
   "metadata": {},
   "outputs": [],
   "source": [
    "# OPTIMIZATION PROBLEM - OF\n",
    "COp = quicksum(var_p*sep['gencost'][:,4])\n",
    "m.setObjective(COp, GRB.MINIMIZE)"
   ]
  },
  {
   "cell_type": "markdown",
   "metadata": {},
   "source": [
    "Si bien se puede utilizar un lazo iterativo para ir acumulando el costo de cada generador, cuando formulamos problemas de gran dimensión es más eficiente utilizar este tipo de operación."
   ]
  },
  {
   "cell_type": "markdown",
   "metadata": {},
   "source": [
    "Siempre es útil mostrar si lo que hemos formulado está correcto. Para el caso de la función objetivo se utiliza el comando es \"getObjetive()\"."
   ]
  },
  {
   "cell_type": "code",
   "execution_count": null,
   "metadata": {},
   "outputs": [],
   "source": [
    "m.getObjective() \n",
    "# m.update() #es necesario a veces actualizar"
   ]
  },
  {
   "cell_type": "markdown",
   "metadata": {},
   "source": [
    "El problema está sujeto a un conjunto de restricciones (igualdad y desigualdad), las cuales pueden ser definidas de acuerdo a la librería que tiene Gurobi como: GRB.EQUAL, GRB.GREATER_EQUAL, etc. \n",
    "\n",
    "Se puede también utilizar el símbolo que muestra el tipo de restricción (==, >=, <=). Incluso, se puede asociar un nombre a cada restricción. El objetivo es mostrar con nombres las restricciones formuladas (diccionario), asímismo es útil mostrar esta información cuando se formula el problema lineal (archivo LP) o entregar información de los precios sombras asociados al nombre de la restrición. Sino no se entrega esta información, las variables y restricciones aparecerán con nombres genéricos de Gurobi.\n",
    "\n",
    "(*) A mi criterio es mejor utilizar estas definiciones, pensando en generalizar la modelación del problema en cualquier lenguaje de programación (Ansi C o C++)."
   ]
  },
  {
   "cell_type": "markdown",
   "metadata": {},
   "source": [
    "Para este caso el conjunto de restricciones es el siguiente:\n",
    "\n",
    "* Balance de potencia:"
   ]
  },
  {
   "cell_type": "code",
   "execution_count": null,
   "metadata": {},
   "outputs": [],
   "source": [
    "# s.t.\n",
    "m.addConstr(p.sum('*'),GRB.EQUAL,sum(sep['bus'][:,2]),'Balance')"
   ]
  },
  {
   "cell_type": "markdown",
   "metadata": {},
   "source": [
    "* Características técnicas de los generadores:"
   ]
  },
  {
   "cell_type": "code",
   "execution_count": null,
   "metadata": {},
   "outputs": [],
   "source": [
    "# P min & P max\n",
    "for i in range(ng):\n",
    "    m.addConstr(p[i],GRB.GREATER_EQUAL,sep['gen'][i,9],'Pmin%d' % sep['gen'][i,0])\n",
    "    m.addConstr(-p[i],GRB.GREATER_EQUAL,-sep['gen'][i,8],'Pmax%d' % sep['gen'][i,0])"
   ]
  },
  {
   "cell_type": "markdown",
   "metadata": {},
   "source": [
    "Notar que al nombre de la restricción podemos agregarle información respecto al elemento (generador) que estamos limitando. Esto se puede realizar con el símbolo de porcentaje (%). Dependiendo del tipo de restricción, se puede asignar números enteros (%d) o cadena de caracteres (%s)."
   ]
  },
  {
   "cell_type": "markdown",
   "metadata": {},
   "source": [
    "En el caso que deseamos mostrar la formulación de estas restricciones podemos iterar en el conjunto de restricciones con el comando \"getConstrs\", y obtener cualquier restricción formulada. De la misma manera no olvidar que se crea la restricción desde el cero.\n",
    "\n",
    "Con las siguientes instrucciones se pueden mostrar dos formas de poder acceder a su formulación matemática."
   ]
  },
  {
   "cell_type": "code",
   "execution_count": null,
   "metadata": {},
   "outputs": [],
   "source": [
    "# show constraints\n",
    "for c in m.getConstrs():\n",
    "  print m.getRow(c)\n",
    "xx=m.getConstrs()\n",
    "print(m.getRow(xx[0]))"
   ]
  },
  {
   "cell_type": "markdown",
   "metadata": {},
   "source": [
    "Para calcular el tiempo de formulación del problema de optimización debemos asignar a una nueva variable la información del tiempo (reloj). Por lo que, el tiempo se podría calcularía como la diferencia de ambas variables."
   ]
  },
  {
   "cell_type": "code",
   "execution_count": null,
   "metadata": {},
   "outputs": [],
   "source": [
    "t11 = time.time()"
   ]
  },
  {
   "cell_type": "markdown",
   "metadata": {},
   "source": [
    "La resolución del problema se realiza a través de la instrucción \"optimize\"."
   ]
  },
  {
   "cell_type": "code",
   "execution_count": null,
   "metadata": {},
   "outputs": [],
   "source": [
    "# SOLVER & INFO\n",
    "t2 = time.time()\n",
    "m.optimize()\n",
    "t3 = time.time()"
   ]
  },
  {
   "cell_type": "markdown",
   "metadata": {},
   "source": [
    "Para comparar con la información de Gurobi, se procederá a iniciar el reloj antes y despues de la resolución del problema de optimización."
   ]
  },
  {
   "cell_type": "markdown",
   "metadata": {},
   "source": [
    "Si queremos mostrar el archivo *.LP (linear problem):"
   ]
  },
  {
   "cell_type": "code",
   "execution_count": null,
   "metadata": {},
   "outputs": [],
   "source": [
    "if True:\n",
    "    m.write('ED.lp')"
   ]
  },
  {
   "cell_type": "markdown",
   "metadata": {},
   "source": [
    "Es util asignar a una variable el tipo de solución encontra. Así podríamos determinar si la solución es óptima, infactible o no acotada."
   ]
  },
  {
   "cell_type": "markdown",
   "metadata": {},
   "source": [
    "En las siguientes línea de texto se presenta información relacionada con la solución óptima:\n",
    "\n",
    "* El costo de la FO.\n",
    "* Las variables de decisión.\n",
    "* Los precios sombra asociados a las restricciones."
   ]
  },
  {
   "cell_type": "code",
   "execution_count": null,
   "metadata": {},
   "outputs": [],
   "source": [
    "status = m.Status\n",
    "if status == GRB.Status.OPTIMAL:\n",
    "    print ('Cost = %.2f ($) / COp = %.2f' % (m.objVal,COp.getValue()))\n",
    "    # primera forma\n",
    "    print ('Decision variables (Pg):')\n",
    "    for v in m.getVars():\n",
    "        print('%s = %g (MW)' % (v.VarName, v.X))\n",
    "    # segunda forma\n",
    "    print ('Decision variables (Pg):')    \n",
    "    sol_p = m.getAttr('x', p)\n",
    "    for i in range(ng):\n",
    "        print('Pg[%.0f] = %.3f (MW)' % (sep['gen'][i,0], sol_p[i]))\n",
    "    # shadow prices\n",
    "    print ('Lagrange multipliers')\n",
    "    for v in m.getConstrs():\n",
    "        if v.pi > 0:\n",
    "            print('%s = %g ($/MWh)' % (v.ConstrName,v.pi))"
   ]
  }
 ],
 "metadata": {
  "kernelspec": {
   "display_name": "Python 2",
   "language": "python",
   "name": "python2"
  },
  "language_info": {
   "codemirror_mode": {
    "name": "ipython",
    "version": 2
   },
   "file_extension": ".py",
   "mimetype": "text/x-python",
   "name": "python",
   "nbconvert_exporter": "python",
   "pygments_lexer": "ipython2",
   "version": "2.7.16"
  }
 },
 "nbformat": 4,
 "nbformat_minor": 2
}
